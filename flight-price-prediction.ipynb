{
 "cells": [
  {
   "cell_type": "markdown",
   "metadata": {},
   "source": [
    "## Research Questions\n",
    "The aim of our study is to answer the below research questions:\n",
    "1. Does price vary with Airlines?\n",
    "2. How is the price affected when tickets are bought in just 1 or 2 days before departure?\n",
    "3. Does ticket price change based on the departure time and arrival time?\n",
    "4. How the price changes with change in Source and Destination?\n",
    "5. How does the ticket price vary between Economy and Business class?"
   ]
  },
  {
   "cell_type": "markdown",
   "metadata": {},
   "source": [
    "## Importing Important Libraries"
   ]
  },
  {
   "cell_type": "code",
   "execution_count": 35,
   "metadata": {},
   "outputs": [],
   "source": [
    "import pandas as pd\n",
    "import numpy as np\n",
    "import matplotlib.pyplot as plt\n",
    "from sklearn.linear_model import LinearRegression\n",
    "from xgboost import XGBRegressor as xgbr\n",
    "from sklearn.model_selection import train_test_split\n",
    "from sklearn.metrics import r2_score\n",
    "import seaborn as sns\n",
    "\n",
    "import warnings \n",
    "warnings.filterwarnings('ignore')"
   ]
  },
  {
   "cell_type": "code",
   "execution_count": 2,
   "metadata": {},
   "outputs": [],
   "source": [
    "data = pd.read_csv(\"clean_dataset.csv\")"
   ]
  },
  {
   "cell_type": "code",
   "execution_count": 3,
   "metadata": {},
   "outputs": [
    {
     "data": {
      "text/html": [
       "<div>\n",
       "<style scoped>\n",
       "    .dataframe tbody tr th:only-of-type {\n",
       "        vertical-align: middle;\n",
       "    }\n",
       "\n",
       "    .dataframe tbody tr th {\n",
       "        vertical-align: top;\n",
       "    }\n",
       "\n",
       "    .dataframe thead th {\n",
       "        text-align: right;\n",
       "    }\n",
       "</style>\n",
       "<table border=\"1\" class=\"dataframe\">\n",
       "  <thead>\n",
       "    <tr style=\"text-align: right;\">\n",
       "      <th></th>\n",
       "      <th>airline</th>\n",
       "      <th>flight</th>\n",
       "      <th>source_city</th>\n",
       "      <th>departure_time</th>\n",
       "      <th>stops</th>\n",
       "      <th>arrival_time</th>\n",
       "      <th>destination_city</th>\n",
       "      <th>class</th>\n",
       "      <th>duration</th>\n",
       "      <th>days_left</th>\n",
       "      <th>price</th>\n",
       "    </tr>\n",
       "  </thead>\n",
       "  <tbody>\n",
       "    <tr>\n",
       "      <th>0</th>\n",
       "      <td>SpiceJet</td>\n",
       "      <td>SG-8709</td>\n",
       "      <td>Delhi</td>\n",
       "      <td>Evening</td>\n",
       "      <td>zero</td>\n",
       "      <td>Night</td>\n",
       "      <td>Mumbai</td>\n",
       "      <td>Economy</td>\n",
       "      <td>2.17</td>\n",
       "      <td>1</td>\n",
       "      <td>5953</td>\n",
       "    </tr>\n",
       "    <tr>\n",
       "      <th>1</th>\n",
       "      <td>SpiceJet</td>\n",
       "      <td>SG-8157</td>\n",
       "      <td>Delhi</td>\n",
       "      <td>Early_Morning</td>\n",
       "      <td>zero</td>\n",
       "      <td>Morning</td>\n",
       "      <td>Mumbai</td>\n",
       "      <td>Economy</td>\n",
       "      <td>2.33</td>\n",
       "      <td>1</td>\n",
       "      <td>5953</td>\n",
       "    </tr>\n",
       "    <tr>\n",
       "      <th>2</th>\n",
       "      <td>AirAsia</td>\n",
       "      <td>I5-764</td>\n",
       "      <td>Delhi</td>\n",
       "      <td>Early_Morning</td>\n",
       "      <td>zero</td>\n",
       "      <td>Early_Morning</td>\n",
       "      <td>Mumbai</td>\n",
       "      <td>Economy</td>\n",
       "      <td>2.17</td>\n",
       "      <td>1</td>\n",
       "      <td>5956</td>\n",
       "    </tr>\n",
       "    <tr>\n",
       "      <th>3</th>\n",
       "      <td>Vistara</td>\n",
       "      <td>UK-995</td>\n",
       "      <td>Delhi</td>\n",
       "      <td>Morning</td>\n",
       "      <td>zero</td>\n",
       "      <td>Afternoon</td>\n",
       "      <td>Mumbai</td>\n",
       "      <td>Economy</td>\n",
       "      <td>2.25</td>\n",
       "      <td>1</td>\n",
       "      <td>5955</td>\n",
       "    </tr>\n",
       "    <tr>\n",
       "      <th>4</th>\n",
       "      <td>Vistara</td>\n",
       "      <td>UK-963</td>\n",
       "      <td>Delhi</td>\n",
       "      <td>Morning</td>\n",
       "      <td>zero</td>\n",
       "      <td>Morning</td>\n",
       "      <td>Mumbai</td>\n",
       "      <td>Economy</td>\n",
       "      <td>2.33</td>\n",
       "      <td>1</td>\n",
       "      <td>5955</td>\n",
       "    </tr>\n",
       "  </tbody>\n",
       "</table>\n",
       "</div>"
      ],
      "text/plain": [
       "    airline   flight source_city departure_time stops   arrival_time  \\\n",
       "0  SpiceJet  SG-8709       Delhi        Evening  zero          Night   \n",
       "1  SpiceJet  SG-8157       Delhi  Early_Morning  zero        Morning   \n",
       "2   AirAsia   I5-764       Delhi  Early_Morning  zero  Early_Morning   \n",
       "3   Vistara   UK-995       Delhi        Morning  zero      Afternoon   \n",
       "4   Vistara   UK-963       Delhi        Morning  zero        Morning   \n",
       "\n",
       "  destination_city    class  duration  days_left  price  \n",
       "0           Mumbai  Economy      2.17          1   5953  \n",
       "1           Mumbai  Economy      2.33          1   5953  \n",
       "2           Mumbai  Economy      2.17          1   5956  \n",
       "3           Mumbai  Economy      2.25          1   5955  \n",
       "4           Mumbai  Economy      2.33          1   5955  "
      ]
     },
     "execution_count": 3,
     "metadata": {},
     "output_type": "execute_result"
    }
   ],
   "source": [
    "df = pd.DataFrame(data)\n",
    "df.head()"
   ]
  },
  {
   "cell_type": "markdown",
   "metadata": {},
   "source": [
    "## Data Exploring"
   ]
  },
  {
   "cell_type": "code",
   "execution_count": 4,
   "metadata": {},
   "outputs": [
    {
     "name": "stdout",
     "output_type": "stream",
     "text": [
      "<class 'pandas.core.frame.DataFrame'>\n",
      "RangeIndex: 300153 entries, 0 to 300152\n",
      "Data columns (total 11 columns):\n",
      " #   Column            Non-Null Count   Dtype  \n",
      "---  ------            --------------   -----  \n",
      " 0   airline           300153 non-null  object \n",
      " 1   flight            300153 non-null  object \n",
      " 2   source_city       300153 non-null  object \n",
      " 3   departure_time    300153 non-null  object \n",
      " 4   stops             300153 non-null  object \n",
      " 5   arrival_time      300153 non-null  object \n",
      " 6   destination_city  300153 non-null  object \n",
      " 7   class             300153 non-null  object \n",
      " 8   duration          300153 non-null  float64\n",
      " 9   days_left         300153 non-null  int64  \n",
      " 10  price             300153 non-null  int64  \n",
      "dtypes: float64(1), int64(2), object(8)\n",
      "memory usage: 25.2+ MB\n"
     ]
    }
   ],
   "source": [
    "df.info()"
   ]
  },
  {
   "cell_type": "code",
   "execution_count": 5,
   "metadata": {},
   "outputs": [
    {
     "data": {
      "text/plain": [
       "airline             0\n",
       "flight              0\n",
       "source_city         0\n",
       "departure_time      0\n",
       "stops               0\n",
       "arrival_time        0\n",
       "destination_city    0\n",
       "class               0\n",
       "duration            0\n",
       "days_left           0\n",
       "price               0\n",
       "dtype: int64"
      ]
     },
     "execution_count": 5,
     "metadata": {},
     "output_type": "execute_result"
    }
   ],
   "source": [
    "df.isnull().sum()"
   ]
  },
  {
   "cell_type": "markdown",
   "metadata": {},
   "source": [
    "From the information above, we can tell that the dataset is clean NB: Without missing values.\n"
   ]
  },
  {
   "cell_type": "code",
   "execution_count": 6,
   "metadata": {},
   "outputs": [
    {
     "data": {
      "text/html": [
       "<div>\n",
       "<style scoped>\n",
       "    .dataframe tbody tr th:only-of-type {\n",
       "        vertical-align: middle;\n",
       "    }\n",
       "\n",
       "    .dataframe tbody tr th {\n",
       "        vertical-align: top;\n",
       "    }\n",
       "\n",
       "    .dataframe thead th {\n",
       "        text-align: right;\n",
       "    }\n",
       "</style>\n",
       "<table border=\"1\" class=\"dataframe\">\n",
       "  <thead>\n",
       "    <tr style=\"text-align: right;\">\n",
       "      <th></th>\n",
       "      <th>duration</th>\n",
       "      <th>days_left</th>\n",
       "      <th>price</th>\n",
       "    </tr>\n",
       "  </thead>\n",
       "  <tbody>\n",
       "    <tr>\n",
       "      <th>count</th>\n",
       "      <td>300153.000000</td>\n",
       "      <td>300153.000000</td>\n",
       "      <td>300153.000000</td>\n",
       "    </tr>\n",
       "    <tr>\n",
       "      <th>mean</th>\n",
       "      <td>12.221021</td>\n",
       "      <td>26.004751</td>\n",
       "      <td>20889.660523</td>\n",
       "    </tr>\n",
       "    <tr>\n",
       "      <th>std</th>\n",
       "      <td>7.191997</td>\n",
       "      <td>13.561004</td>\n",
       "      <td>22697.767366</td>\n",
       "    </tr>\n",
       "    <tr>\n",
       "      <th>min</th>\n",
       "      <td>0.830000</td>\n",
       "      <td>1.000000</td>\n",
       "      <td>1105.000000</td>\n",
       "    </tr>\n",
       "    <tr>\n",
       "      <th>25%</th>\n",
       "      <td>6.830000</td>\n",
       "      <td>15.000000</td>\n",
       "      <td>4783.000000</td>\n",
       "    </tr>\n",
       "    <tr>\n",
       "      <th>50%</th>\n",
       "      <td>11.250000</td>\n",
       "      <td>26.000000</td>\n",
       "      <td>7425.000000</td>\n",
       "    </tr>\n",
       "    <tr>\n",
       "      <th>75%</th>\n",
       "      <td>16.170000</td>\n",
       "      <td>38.000000</td>\n",
       "      <td>42521.000000</td>\n",
       "    </tr>\n",
       "    <tr>\n",
       "      <th>max</th>\n",
       "      <td>49.830000</td>\n",
       "      <td>49.000000</td>\n",
       "      <td>123071.000000</td>\n",
       "    </tr>\n",
       "  </tbody>\n",
       "</table>\n",
       "</div>"
      ],
      "text/plain": [
       "            duration      days_left          price\n",
       "count  300153.000000  300153.000000  300153.000000\n",
       "mean       12.221021      26.004751   20889.660523\n",
       "std         7.191997      13.561004   22697.767366\n",
       "min         0.830000       1.000000    1105.000000\n",
       "25%         6.830000      15.000000    4783.000000\n",
       "50%        11.250000      26.000000    7425.000000\n",
       "75%        16.170000      38.000000   42521.000000\n",
       "max        49.830000      49.000000  123071.000000"
      ]
     },
     "execution_count": 6,
     "metadata": {},
     "output_type": "execute_result"
    }
   ],
   "source": [
    "df.describe()"
   ]
  },
  {
   "cell_type": "markdown",
   "metadata": {},
   "source": [
    "## Data Visualization"
   ]
  },
  {
   "cell_type": "code",
   "execution_count": 7,
   "metadata": {},
   "outputs": [
    {
     "data": {
      "image/png": "[encoded data removed]",
      "text/plain": [
       "<Figure size 432x288 with 1 Axes>"
      ]
     },
     "metadata": {
      "needs_background": "light"
     },
     "output_type": "display_data"
    }
   ],
   "source": [
    "# Ploting graph of airline bookings to visually represent the bookings count.\n",
    "plt.bar(df.airline.unique(), df.airline.value_counts())\n",
    "plt.title(\"Frequency/Airlines Barchart\", fontsize=15)\n",
    "plt.xlabel(\"Airlines\")\n",
    "plt.ylabel(\"Airline Frequency\")\n",
    "plt.show()"
   ]
  },
  {
   "cell_type": "markdown",
   "metadata": {},
   "source": [
    "From the visualization above, it is clear that the SpiceJet and AirAsia are generally preferred by travellers. Could this be due to the price or something else? Lets find out. "
   ]
  },
  {
   "cell_type": "code",
   "execution_count": 8,
   "metadata": {},
   "outputs": [
    {
     "data": {
      "text/plain": [
       "Text(0, 0.5, 'Mean Prices')"
      ]
     },
     "execution_count": 8,
     "metadata": {},
     "output_type": "execute_result"
    },
    {
     "data": {
      "image/png": "[encoded data removed]",
      "text/plain": [
       "<Figure size 432x288 with 1 Axes>"
      ]
     },
     "metadata": {
      "needs_background": "light"
     },
     "output_type": "display_data"
    }
   ],
   "source": [
    "grouped_airlines_by_prices = df.groupby('airline')['price'].mean().sort_values(ascending= False) #Sorted series of airline prices (Grouped by airline)\n",
    "plt.bar(grouped_airlines_by_prices.index, grouped_airlines_by_prices.values) #plotting mean prices against airline\n",
    "plt.title(\"Price/airline Barchart\", fontsize=15)\n",
    "plt.xlabel(\"Airlines\")\n",
    "plt.ylabel(\"Mean Prices\")"
   ]
  },
  {
   "cell_type": "markdown",
   "metadata": {},
   "source": [
    "> Based off the visualization above, we can see that ticket prices do vary with Airlines with Vistara and Air_india topping the chart (Most expensive)"
   ]
  },
  {
   "cell_type": "code",
   "execution_count": 9,
   "metadata": {},
   "outputs": [
    {
     "data": {
      "image/png": "[encoded data removed]",
      "text/plain": [
       "<Figure size 432x288 with 1 Axes>"
      ]
     },
     "metadata": {
      "needs_background": "light"
     },
     "output_type": "display_data"
    }
   ],
   "source": [
    "# grouping of days left by average prices\n",
    "grouped_airlines_by_days_left = df.groupby('days_left')['price'].mean()\n",
    "plt.bar(grouped_airlines_by_days_left.index, grouped_airlines_by_days_left.values)\n",
    "plt.title(\"Change of price by days left\")\n",
    "plt.xlabel(\"Number of days left\")\n",
    "plt.ylabel(\"Average Price\")\n",
    "sns.regplot(x = grouped_airlines_by_days_left.index, y = grouped_airlines_by_days_left.values, color ='red', scatter=False)\n",
    "plt.show()"
   ]
  },
  {
   "cell_type": "markdown",
   "metadata": {},
   "source": [
    "> Based off the visualizations, We can see that ticket prices on an average are high when there are few days left to depature and are less expensive with more days till depature... As the mean cost slopes downward as the number of days increase"
   ]
  },
  {
   "cell_type": "code",
   "execution_count": 10,
   "metadata": {},
   "outputs": [
    {
     "name": "stdout",
     "output_type": "stream",
     "text": [
      "List of depature times\n",
      " ['Evening' 'Early_Morning' 'Morning' 'Afternoon' 'Night' 'Late_Night']\n",
      "List of arrival times\n",
      " ['Night' 'Morning' 'Early_Morning' 'Afternoon' 'Evening' 'Late_Night']\n"
     ]
    }
   ],
   "source": [
    "depatures = df['departure_time'].unique()\n",
    "arrivals = df['arrival_time'].unique()\n",
    "print('List of depature times\\n', depatures)\n",
    "print('List of arrival times\\n', arrivals)"
   ]
  },
  {
   "cell_type": "code",
   "execution_count": 11,
   "metadata": {},
   "outputs": [
    {
     "data": {
      "image/png": "[encoded data removed]",
      "text/plain": [
       "<Figure size 936x360 with 2 Axes>"
      ]
     },
     "metadata": {
      "needs_background": "light"
     },
     "output_type": "display_data"
    }
   ],
   "source": [
    "# grouping of arrival and depature time by average prices sorted in ascending order\n",
    "depature_time_price = df.groupby('departure_time')['price'].mean().round(0).sort_values(ascending = True)\n",
    "arrival_time_price = df.groupby('arrival_time')['price'].mean().round(0).sort_values(ascending = True)\n",
    "\n",
    "plt.figure(figsize =(13,5))\n",
    "plt.subplot(1,2,1)\n",
    "plt.bar(depature_time_price.index, depature_time_price.values)\n",
    "plt.title(\"Prices/Depature Times Histogram\")\n",
    "plt.xlabel(\"Depature Times\")\n",
    "plt.ylabel(\"Average Prices\")\n",
    "plt.xticks(rotation = 'vertical')\n",
    "\n",
    "plt.subplot(1,2,2)\n",
    "plt.bar(arrival_time_price.index, arrival_time_price.values)\n",
    "plt.title(\"Prices/Arrival Times Histogram\")\n",
    "plt.xlabel(\"Arrival Times\")\n",
    "plt.ylabel(\"Average Prices\")\n",
    "plt.xticks(rotation = 'vertical')\n",
    "\n",
    "plt.show()"
   ]
  },
  {
   "cell_type": "markdown",
   "metadata": {},
   "source": [
    "* Based off the two visualizations above, we can observe the following;\n",
    "1. Depature Times\n",
    "    * Late night flights are the cheapest\n",
    "    * Night flights are the most expensive\n",
    "2. Arrival Times\n",
    "    * Late night flights are the cheapest\n",
    "    * Evening flights are the most expensive"
   ]
  },
  {
   "cell_type": "code",
   "execution_count": 12,
   "metadata": {},
   "outputs": [
    {
     "name": "stdout",
     "output_type": "stream",
     "text": [
      "List of source locations\n",
      " ['Delhi' 'Mumbai' 'Bangalore' 'Kolkata' 'Hyderabad' 'Chennai']\n",
      "List of destination locations\n",
      " ['Mumbai' 'Bangalore' 'Kolkata' 'Hyderabad' 'Chennai' 'Delhi']\n"
     ]
    }
   ],
   "source": [
    "source = df['source_city'].unique()\n",
    "destination = df['destination_city'].unique()\n",
    "print('List of source locations\\n', source)\n",
    "print('List of destination locations\\n', destination)"
   ]
  },
  {
   "cell_type": "code",
   "execution_count": 13,
   "metadata": {},
   "outputs": [
    {
     "data": {
      "image/png": "[encoded data removed]",
      "text/plain": [
       "<Figure size 936x360 with 2 Axes>"
      ]
     },
     "metadata": {
      "needs_background": "light"
     },
     "output_type": "display_data"
    }
   ],
   "source": [
    "# grouping of source and depature city by average prices sorted in ascending order\n",
    "source_city_price = df.groupby('source_city')['price'].mean().round(0).sort_values(ascending=True)\n",
    "destination_city_price = df.groupby('destination_city')['price'].mean().round(0).sort_values(ascending=True)\n",
    "\n",
    "plt.figure(figsize =(13,5))\n",
    "plt.subplot(1,2,1)\n",
    "plt.bar(source_city_price.index, source_city_price.values)\n",
    "plt.title(\"Price/Source City Bar Graph\")\n",
    "plt.xlabel(\"Source cities\")\n",
    "plt.ylabel(\"Average Prices\")\n",
    "plt.xticks(rotation = 'vertical')\n",
    "plt.ylim((0, 24000))\n",
    "\n",
    "plt.subplot(1,2,2)\n",
    "plt.bar(destination_city_price.index, destination_city_price.values)\n",
    "plt.title(\"Price/Destination City Bar Graph\")\n",
    "plt.xlabel(\"Destination cities\")\n",
    "plt.ylabel(\"Average Prices\")\n",
    "plt.xticks(rotation = 'vertical')\n",
    "plt.ylim((0, 24000))\n",
    "\n",
    "plt.show()"
   ]
  },
  {
   "cell_type": "markdown",
   "metadata": {},
   "source": [
    "* Based off the two visualizations above, we can observe the following;\n",
    "1. Source Cities\n",
    "    * Flights that start from Dehli are the cheapest\n",
    "    * Flights that start from Chennai are most expensive\n",
    "2. Destination Cities\n",
    "    * Flights with destination Delhi are the cheapest\n",
    "    * Flights with Destination Kolkata are the most expensive"
   ]
  },
  {
   "cell_type": "code",
   "execution_count": 14,
   "metadata": {},
   "outputs": [
    {
     "name": "stdout",
     "output_type": "stream",
     "text": [
      "Classes\n",
      " ['Economy' 'Business']\n"
     ]
    }
   ],
   "source": [
    "classes = df['class'].unique()\n",
    "print(\"Classes\\n\", classes)"
   ]
  },
  {
   "cell_type": "code",
   "execution_count": 15,
   "metadata": {},
   "outputs": [
    {
     "data": {
      "image/png": "[encoded data removed]",
      "text/plain": [
       "<Figure size 432x288 with 1 Axes>"
      ]
     },
     "metadata": {
      "needs_background": "light"
     },
     "output_type": "display_data"
    },
    {
     "name": "stdout",
     "output_type": "stream",
     "text": [
      "The ratio business to economy is 7.99 or 8:1\n"
     ]
    }
   ],
   "source": [
    "# grouping of flight class by average prices\n",
    "economy_business_prices = df.groupby('class')['price'].mean().round(0)\n",
    "\n",
    "plt.bar(economy_business_prices.index, economy_business_prices.values)\n",
    "plt.title(\"Price/Class Average Price Histogram\")\n",
    "plt.xlabel(\"Classes\")\n",
    "plt.ylabel(\"Average Price\")\n",
    "plt.show()\n",
    "\n",
    "# Ratio calculation\n",
    "ratio = economy_business_prices.values[0]/economy_business_prices.values[1]\n",
    "print('The ratio business to economy is',ratio.round(2), 'or 8:1')"
   ]
  },
  {
   "cell_type": "markdown",
   "metadata": {},
   "source": [
    "> Based off the visualization above, we can see that an average Business class ticket is significantly more expensive than an Economy class ticket"
   ]
  },
  {
   "cell_type": "code",
   "execution_count": 16,
   "metadata": {},
   "outputs": [
    {
     "name": "stdout",
     "output_type": "stream",
     "text": [
      "Number of stops\n",
      " ['zero' 'one' 'two_or_more']\n"
     ]
    }
   ],
   "source": [
    "stops = df['stops'].unique()\n",
    "print(\"Number of stops\\n\", stops)"
   ]
  },
  {
   "cell_type": "code",
   "execution_count": 17,
   "metadata": {},
   "outputs": [
    {
     "data": {
      "image/png": "[encoded data removed]",
      "text/plain": [
       "<Figure size 432x288 with 1 Axes>"
      ]
     },
     "metadata": {
      "needs_background": "light"
     },
     "output_type": "display_data"
    }
   ],
   "source": [
    "stops = df.groupby('stops')['price'].mean().round(0).sort_values(ascending= True)\n",
    "plt.bar(stops.index, stops.values)\n",
    "plt.title(\"Average Flight Prices by Number of stops\")\n",
    "plt.xlabel(\"Number of Stops\")\n",
    "plt.ylabel(\"Average Price\")\n",
    "plt.show()"
   ]
  },
  {
   "cell_type": "markdown",
   "metadata": {},
   "source": [
    "> From the visualization above, we can see that flight prices are indeed affected by the number of stops throughout the journey"
   ]
  },
  {
   "cell_type": "markdown",
   "metadata": {},
   "source": [
    "## Pre-processing Data for model"
   ]
  },
  {
   "cell_type": "code",
   "execution_count": 18,
   "metadata": {},
   "outputs": [
    {
     "data": {
      "text/html": [
       "<div>\n",
       "<style scoped>\n",
       "    .dataframe tbody tr th:only-of-type {\n",
       "        vertical-align: middle;\n",
       "    }\n",
       "\n",
       "    .dataframe tbody tr th {\n",
       "        vertical-align: top;\n",
       "    }\n",
       "\n",
       "    .dataframe thead th {\n",
       "        text-align: right;\n",
       "    }\n",
       "</style>\n",
       "<table border=\"1\" class=\"dataframe\">\n",
       "  <thead>\n",
       "    <tr style=\"text-align: right;\">\n",
       "      <th></th>\n",
       "      <th>airline</th>\n",
       "      <th>source_city</th>\n",
       "      <th>departure_time</th>\n",
       "      <th>stops</th>\n",
       "      <th>arrival_time</th>\n",
       "      <th>destination_city</th>\n",
       "      <th>class</th>\n",
       "      <th>duration</th>\n",
       "      <th>days_left</th>\n",
       "      <th>price</th>\n",
       "    </tr>\n",
       "  </thead>\n",
       "  <tbody>\n",
       "    <tr>\n",
       "      <th>0</th>\n",
       "      <td>SpiceJet</td>\n",
       "      <td>Delhi</td>\n",
       "      <td>Evening</td>\n",
       "      <td>zero</td>\n",
       "      <td>Night</td>\n",
       "      <td>Mumbai</td>\n",
       "      <td>Economy</td>\n",
       "      <td>2.17</td>\n",
       "      <td>1</td>\n",
       "      <td>5953</td>\n",
       "    </tr>\n",
       "    <tr>\n",
       "      <th>1</th>\n",
       "      <td>SpiceJet</td>\n",
       "      <td>Delhi</td>\n",
       "      <td>Early_Morning</td>\n",
       "      <td>zero</td>\n",
       "      <td>Morning</td>\n",
       "      <td>Mumbai</td>\n",
       "      <td>Economy</td>\n",
       "      <td>2.33</td>\n",
       "      <td>1</td>\n",
       "      <td>5953</td>\n",
       "    </tr>\n",
       "    <tr>\n",
       "      <th>2</th>\n",
       "      <td>AirAsia</td>\n",
       "      <td>Delhi</td>\n",
       "      <td>Early_Morning</td>\n",
       "      <td>zero</td>\n",
       "      <td>Early_Morning</td>\n",
       "      <td>Mumbai</td>\n",
       "      <td>Economy</td>\n",
       "      <td>2.17</td>\n",
       "      <td>1</td>\n",
       "      <td>5956</td>\n",
       "    </tr>\n",
       "  </tbody>\n",
       "</table>\n",
       "</div>"
      ],
      "text/plain": [
       "    airline source_city departure_time stops   arrival_time destination_city  \\\n",
       "0  SpiceJet       Delhi        Evening  zero          Night           Mumbai   \n",
       "1  SpiceJet       Delhi  Early_Morning  zero        Morning           Mumbai   \n",
       "2   AirAsia       Delhi  Early_Morning  zero  Early_Morning           Mumbai   \n",
       "\n",
       "     class  duration  days_left  price  \n",
       "0  Economy      2.17          1   5953  \n",
       "1  Economy      2.33          1   5953  \n",
       "2  Economy      2.17          1   5956  "
      ]
     },
     "execution_count": 18,
     "metadata": {},
     "output_type": "execute_result"
    }
   ],
   "source": [
    "# Dropping the 'flight' column because the flight ID is not a strong determinant.\n",
    "df_2 = df.drop(['flight'], axis=1)\n",
    "df_2.head(3)"
   ]
  },
  {
   "cell_type": "code",
   "execution_count": 19,
   "metadata": {},
   "outputs": [
    {
     "name": "stdout",
     "output_type": "stream",
     "text": [
      "Formatted Data Types\n",
      " airline             category\n",
      "source_city         category\n",
      "departure_time      category\n",
      "stops               category\n",
      "arrival_time        category\n",
      "destination_city    category\n",
      "class               category\n",
      "duration             float64\n",
      "days_left              int64\n",
      "price                  int64\n",
      "dtype: object\n"
     ]
    }
   ],
   "source": [
    "# Converting all non float, integer values into category data type\n",
    "\n",
    "df_2['airline'] = df_2['airline'].astype('category')\n",
    "df_2['source_city'] = df_2['source_city'].astype('category')\n",
    "df_2['departure_time'] = df_2['departure_time'].astype('category')\n",
    "df_2['stops'] = df_2['stops'].astype('category')\n",
    "df_2['arrival_time'] = df_2['arrival_time'].astype('category')\n",
    "df_2['destination_city'] = df_2['destination_city'].astype('category')\n",
    "df_2['class'] = df_2['class'].astype('category')\n",
    "print(\"Formatted Data Types\\n\",df_2.dtypes)"
   ]
  },
  {
   "cell_type": "code",
   "execution_count": 20,
   "metadata": {},
   "outputs": [
    {
     "data": {
      "text/html": [
       "<div>\n",
       "<style scoped>\n",
       "    .dataframe tbody tr th:only-of-type {\n",
       "        vertical-align: middle;\n",
       "    }\n",
       "\n",
       "    .dataframe tbody tr th {\n",
       "        vertical-align: top;\n",
       "    }\n",
       "\n",
       "    .dataframe thead th {\n",
       "        text-align: right;\n",
       "    }\n",
       "</style>\n",
       "<table border=\"1\" class=\"dataframe\">\n",
       "  <thead>\n",
       "    <tr style=\"text-align: right;\">\n",
       "      <th></th>\n",
       "      <th>duration</th>\n",
       "      <th>days_left</th>\n",
       "      <th>price</th>\n",
       "      <th>airline_Air_India</th>\n",
       "      <th>airline_GO_FIRST</th>\n",
       "      <th>airline_Indigo</th>\n",
       "      <th>airline_SpiceJet</th>\n",
       "      <th>airline_Vistara</th>\n",
       "      <th>source_city_Chennai</th>\n",
       "      <th>source_city_Delhi</th>\n",
       "      <th>...</th>\n",
       "      <th>arrival_time_Evening</th>\n",
       "      <th>arrival_time_Late_Night</th>\n",
       "      <th>arrival_time_Morning</th>\n",
       "      <th>arrival_time_Night</th>\n",
       "      <th>destination_city_Chennai</th>\n",
       "      <th>destination_city_Delhi</th>\n",
       "      <th>destination_city_Hyderabad</th>\n",
       "      <th>destination_city_Kolkata</th>\n",
       "      <th>destination_city_Mumbai</th>\n",
       "      <th>class_Economy</th>\n",
       "    </tr>\n",
       "  </thead>\n",
       "  <tbody>\n",
       "    <tr>\n",
       "      <th>0</th>\n",
       "      <td>2.17</td>\n",
       "      <td>1</td>\n",
       "      <td>5953</td>\n",
       "      <td>0</td>\n",
       "      <td>0</td>\n",
       "      <td>0</td>\n",
       "      <td>1</td>\n",
       "      <td>0</td>\n",
       "      <td>0</td>\n",
       "      <td>1</td>\n",
       "      <td>...</td>\n",
       "      <td>0</td>\n",
       "      <td>0</td>\n",
       "      <td>0</td>\n",
       "      <td>1</td>\n",
       "      <td>0</td>\n",
       "      <td>0</td>\n",
       "      <td>0</td>\n",
       "      <td>0</td>\n",
       "      <td>1</td>\n",
       "      <td>1</td>\n",
       "    </tr>\n",
       "    <tr>\n",
       "      <th>1</th>\n",
       "      <td>2.33</td>\n",
       "      <td>1</td>\n",
       "      <td>5953</td>\n",
       "      <td>0</td>\n",
       "      <td>0</td>\n",
       "      <td>0</td>\n",
       "      <td>1</td>\n",
       "      <td>0</td>\n",
       "      <td>0</td>\n",
       "      <td>1</td>\n",
       "      <td>...</td>\n",
       "      <td>0</td>\n",
       "      <td>0</td>\n",
       "      <td>1</td>\n",
       "      <td>0</td>\n",
       "      <td>0</td>\n",
       "      <td>0</td>\n",
       "      <td>0</td>\n",
       "      <td>0</td>\n",
       "      <td>1</td>\n",
       "      <td>1</td>\n",
       "    </tr>\n",
       "    <tr>\n",
       "      <th>2</th>\n",
       "      <td>2.17</td>\n",
       "      <td>1</td>\n",
       "      <td>5956</td>\n",
       "      <td>0</td>\n",
       "      <td>0</td>\n",
       "      <td>0</td>\n",
       "      <td>0</td>\n",
       "      <td>0</td>\n",
       "      <td>0</td>\n",
       "      <td>1</td>\n",
       "      <td>...</td>\n",
       "      <td>0</td>\n",
       "      <td>0</td>\n",
       "      <td>0</td>\n",
       "      <td>0</td>\n",
       "      <td>0</td>\n",
       "      <td>0</td>\n",
       "      <td>0</td>\n",
       "      <td>0</td>\n",
       "      <td>1</td>\n",
       "      <td>1</td>\n",
       "    </tr>\n",
       "    <tr>\n",
       "      <th>3</th>\n",
       "      <td>2.25</td>\n",
       "      <td>1</td>\n",
       "      <td>5955</td>\n",
       "      <td>0</td>\n",
       "      <td>0</td>\n",
       "      <td>0</td>\n",
       "      <td>0</td>\n",
       "      <td>1</td>\n",
       "      <td>0</td>\n",
       "      <td>1</td>\n",
       "      <td>...</td>\n",
       "      <td>0</td>\n",
       "      <td>0</td>\n",
       "      <td>0</td>\n",
       "      <td>0</td>\n",
       "      <td>0</td>\n",
       "      <td>0</td>\n",
       "      <td>0</td>\n",
       "      <td>0</td>\n",
       "      <td>1</td>\n",
       "      <td>1</td>\n",
       "    </tr>\n",
       "    <tr>\n",
       "      <th>4</th>\n",
       "      <td>2.33</td>\n",
       "      <td>1</td>\n",
       "      <td>5955</td>\n",
       "      <td>0</td>\n",
       "      <td>0</td>\n",
       "      <td>0</td>\n",
       "      <td>0</td>\n",
       "      <td>1</td>\n",
       "      <td>0</td>\n",
       "      <td>1</td>\n",
       "      <td>...</td>\n",
       "      <td>0</td>\n",
       "      <td>0</td>\n",
       "      <td>1</td>\n",
       "      <td>0</td>\n",
       "      <td>0</td>\n",
       "      <td>0</td>\n",
       "      <td>0</td>\n",
       "      <td>0</td>\n",
       "      <td>1</td>\n",
       "      <td>1</td>\n",
       "    </tr>\n",
       "  </tbody>\n",
       "</table>\n",
       "<p>5 rows × 31 columns</p>\n",
       "</div>"
      ],
      "text/plain": [
       "   duration  days_left  price  airline_Air_India  airline_GO_FIRST  \\\n",
       "0      2.17          1   5953                  0                 0   \n",
       "1      2.33          1   5953                  0                 0   \n",
       "2      2.17          1   5956                  0                 0   \n",
       "3      2.25          1   5955                  0                 0   \n",
       "4      2.33          1   5955                  0                 0   \n",
       "\n",
       "   airline_Indigo  airline_SpiceJet  airline_Vistara  source_city_Chennai  \\\n",
       "0               0                 1                0                    0   \n",
       "1               0                 1                0                    0   \n",
       "2               0                 0                0                    0   \n",
       "3               0                 0                1                    0   \n",
       "4               0                 0                1                    0   \n",
       "\n",
       "   source_city_Delhi  ...  arrival_time_Evening  arrival_time_Late_Night  \\\n",
       "0                  1  ...                     0                        0   \n",
       "1                  1  ...                     0                        0   \n",
       "2                  1  ...                     0                        0   \n",
       "3                  1  ...                     0                        0   \n",
       "4                  1  ...                     0                        0   \n",
       "\n",
       "   arrival_time_Morning  arrival_time_Night  destination_city_Chennai  \\\n",
       "0                     0                   1                         0   \n",
       "1                     1                   0                         0   \n",
       "2                     0                   0                         0   \n",
       "3                     0                   0                         0   \n",
       "4                     1                   0                         0   \n",
       "\n",
       "   destination_city_Delhi  destination_city_Hyderabad  \\\n",
       "0                       0                           0   \n",
       "1                       0                           0   \n",
       "2                       0                           0   \n",
       "3                       0                           0   \n",
       "4                       0                           0   \n",
       "\n",
       "   destination_city_Kolkata  destination_city_Mumbai  class_Economy  \n",
       "0                         0                        1              1  \n",
       "1                         0                        1              1  \n",
       "2                         0                        1              1  \n",
       "3                         0                        1              1  \n",
       "4                         0                        1              1  \n",
       "\n",
       "[5 rows x 31 columns]"
      ]
     },
     "execution_count": 20,
     "metadata": {},
     "output_type": "execute_result"
    }
   ],
   "source": [
    "# Creating of new dataset(dummy dataset), separating the prefixes with '_' and dropping each first column of\n",
    "# the newly created data set in order to avoid Dummy Variable trap\n",
    "df_2 = pd.get_dummies(df_2,prefix_sep='_',drop_first=True)\n",
    "df_2.head()"
   ]
  },
  {
   "cell_type": "code",
   "execution_count": 21,
   "metadata": {},
   "outputs": [],
   "source": [
    "# Splitting data set into independent and dependent set\n",
    "# With test size of 20% and random_state/seed of 32\n",
    "x = df_2.drop('price', axis= 1)\n",
    "y = df_2['price']\n",
    "\n",
    "x_train, x_test, y_train, y_test = train_test_split(x,y, test_size= 0.2, random_state= 32)"
   ]
  },
  {
   "cell_type": "code",
   "execution_count": 22,
   "metadata": {},
   "outputs": [
    {
     "name": "stdout",
     "output_type": "stream",
     "text": [
      "length of training set 240122\n",
      "length of testing set 60031\n"
     ]
    }
   ],
   "source": [
    "print('length of training set', len(x_train))\n",
    "print('length of testing set', len(x_test))"
   ]
  },
  {
   "cell_type": "markdown",
   "metadata": {},
   "source": [
    "## Model Training"
   ]
  },
  {
   "cell_type": "markdown",
   "metadata": {},
   "source": [
    "### Linear Regression"
   ]
  },
  {
   "cell_type": "code",
   "execution_count": 23,
   "metadata": {},
   "outputs": [
    {
     "data": {
      "text/plain": [
       "LinearRegression()"
      ]
     },
     "execution_count": 23,
     "metadata": {},
     "output_type": "execute_result"
    }
   ],
   "source": [
    "# Model Training \n",
    "\n",
    "linear_r = LinearRegression()\n",
    "linear_r.fit(x_train, y_train)"
   ]
  },
  {
   "cell_type": "code",
   "execution_count": 24,
   "metadata": {},
   "outputs": [
    {
     "name": "stdout",
     "output_type": "stream",
     "text": [
      "---Linear Regression---\n",
      "Model Intercept 52580.558\n",
      "Model Score on train data 91.134 %\n",
      "Model Score on test data 91.19 %\n"
     ]
    }
   ],
   "source": [
    "# Model details\n",
    "print('---Linear Regression---')\n",
    "test_pred_l = linear_r.predict(x_test) # predicting test data\n",
    "train_pred_l = linear_r.predict(x_train) # predicting train data\n",
    "\n",
    "print(\"Model Intercept\", (linear_r.intercept_).round(3))\n",
    "print(\"Model Score on train data\", ((r2_score(y_train, train_pred_l)*100).round(3)),'%')\n",
    "print(\"Model Score on test data\", ((r2_score(y_test,test_pred_l)*100).round(3)),'%')"
   ]
  },
  {
   "cell_type": "markdown",
   "metadata": {},
   "source": [
    "> From the results above, we can tell that the model hasn't over fitted because there is very little difference beteen the scores on the test data and train data"
   ]
  },
  {
   "cell_type": "markdown",
   "metadata": {},
   "source": [
    "### XG Boost Regressor"
   ]
  },
  {
   "cell_type": "code",
   "execution_count": 33,
   "metadata": {},
   "outputs": [
    {
     "data": {
      "text/plain": [
       "XGBRegressor(base_score=0.5, booster='gbtree', colsample_bylevel=1,\n",
       "             colsample_bynode=1, colsample_bytree=1, enable_categorical=False,\n",
       "             gamma=0, gpu_id=-1, importance_type=None,\n",
       "             interaction_constraints='', learning_rate=0.1, max_delta_step=0,\n",
       "             max_depth=9, min_child_weight=1, missing=nan,\n",
       "             monotone_constraints='()', n_estimators=50, n_jobs=8,\n",
       "             num_parallel_tree=1, predictor='auto', random_state=0, reg_alpha=0,\n",
       "             reg_lambda=1, scale_pos_weight=1, subsample=1, tree_method='exact',\n",
       "             validate_parameters=1, verbosity=None)"
      ]
     },
     "execution_count": 33,
     "metadata": {},
     "output_type": "execute_result"
    }
   ],
   "source": [
    "xgb_model = xgbr(objective = 'reg:squarederror',n_jobs=8, tree_method='exact', learning_rate = 0.1, max_depth = 9, n_estimators = 50)\n",
    "xgb_model.fit(x_train, y_train)"
   ]
  },
  {
   "cell_type": "code",
   "execution_count": 34,
   "metadata": {},
   "outputs": [
    {
     "name": "stdout",
     "output_type": "stream",
     "text": [
      "---XGBoost Regressor---\n",
      "Model Score on train data 97.575 %\n",
      "Model Score on test data 97.453 %\n"
     ]
    }
   ],
   "source": [
    "# Model details\n",
    "print('---XGBoost Regressor---')\n",
    "test_pred_xgb = xgb_model.predict(x_test) # predicting test data\n",
    "train_pred_xgb = xgb_model.predict(x_train) # predicting train data\n",
    "\n",
    "print(\"Model Score on train data\", ((r2_score(y_train, train_pred_xgb)*100).round(3)),'%')\n",
    "print(\"Model Score on test data\", ((r2_score(y_test,test_pred_xgb)*100).round(3)),'%')"
   ]
  },
  {
   "cell_type": "markdown",
   "metadata": {},
   "source": [
    "> From the results above, we can tell that the model hasn't over fitted because there is very little difference beteen the scores on the test data and train data"
   ]
  },
  {
   "cell_type": "markdown",
   "metadata": {},
   "source": [
    "## Take away points\n",
    "1. The XGBoost Regressor model works better here as the score is greater than that of the LinearRegression.\n",
    "2. SpiceJet and AirAsia are generally preferred by travellers.\n",
    "3. Ticket prices vary with airlines.\n",
    "4. Ticket prices on an average are high when there are few days left to depature and are less expensive with more days till depature\n",
    "5. \n",
    "    * Depature Times\n",
    "        * Late night flights are the cheapest\n",
    "        * Night flights are the most expensive\n",
    "    * Arrival Times\n",
    "        * Late night flights are the cheapest\n",
    "        * Evening flights are the most expensive\n",
    "6. \n",
    "    * Source Cities\n",
    "        * Flights that start from Dehli are the cheapest\n",
    "        * Flights that start from Chennai are most expensive\n",
    "    * Destination Cities\n",
    "        * Flights with destination Delhi are the cheapest\n",
    "        * Flights with Destination Kolkata are the most expensive\n",
    "7. On an average, Business class ticket are significantly more expensive than an Economy class ticket\n",
    "> The data set used in this project was gotten from [Here](https://www.kaggle.com/datasets/shubhambathwal/flight-price-prediction)"
   ]
  }
 ],
 "metadata": {
  "interpreter": {
   "hash": "09b25c1277af6cbaadea7e567f3002bf19747c2245975db34db00b5cd5ef25e8"
  },
  "kernelspec": {
   "display_name": "Python 3.10.3 64-bit",
   "language": "python",
   "name": "python3"
  },
  "language_info": {
   "codemirror_mode": {
    "name": "ipython",
    "version": 3
   },
   "file_extension": ".py",
   "mimetype": "text/x-python",
   "name": "python",
   "nbconvert_exporter": "python",
   "pygments_lexer": "ipython3",
   "version": "3.10.3"
  },
  "orig_nbformat": 4
 },
 "nbformat": 4,
 "nbformat_minor": 2
}
